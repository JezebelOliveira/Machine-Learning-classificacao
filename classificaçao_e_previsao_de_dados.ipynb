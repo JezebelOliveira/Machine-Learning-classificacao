{
  "cells": [
    {
      "cell_type": "code",
      "source": [
        "#exemplo de classificação onde treino os dados para classificar se um animal com 3 características diferentes é um cachorro ou porco\n",
        "\n",
        "#features: 1 sim, 0 não\n",
        "#pelo longo?\n",
        "#perna curta? \n",
        "#faz au au? "
      ],
      "metadata": {
        "id": "3EjdCfSaIez5"
      },
      "execution_count": 1,
      "outputs": []
    },
    {
      "cell_type": "code",
      "source": [
        "#features: 1 sim, 0 não\n",
        "#pelo longo?\n",
        "#perna curta? \n",
        "#faz au au? \n",
        "\n",
        "porco1 = [0,1,0]\n",
        "porco2 = [0,1,1]\n",
        "porco3 = [1,1,0]\n",
        "\n",
        "cachorro1 = [0,1,1]\n",
        "cachorro2 = [1,0,1]\n",
        "cachorro3 = [1,1,1]\n",
        "\n",
        "treino_x = [porco1,porco2,porco3,cachorro1,cachorro2,cachorro3]\n",
        "#1 => porco, 0 => cachorro\n",
        "treino_y = [1,1,1,0,0,0] #labels"
      ],
      "metadata": {
        "id": "1knPTY9cJCmY"
      },
      "execution_count": null,
      "outputs": []
    },
    {
      "cell_type": "code",
      "source": [
        "#estimar a classe dos dados\n",
        "#treinando o algorítimo para dizer a quais classes os dados pertecem\n",
        "from sklearn.svm import LinearSVC\n",
        "\n",
        "model = LinearSVC()\n",
        "model.fit(treino_x,treino_y)"
      ],
      "metadata": {
        "id": "G3J4z9fqJXJX",
        "outputId": "07968de8-6e0a-48d2-c3c0-7d67d769cdf7",
        "colab": {
          "base_uri": "https://localhost:8080/"
        }
      },
      "execution_count": null,
      "outputs": [
        {
          "output_type": "execute_result",
          "data": {
            "text/plain": [
              "LinearSVC()"
            ]
          },
          "metadata": {},
          "execution_count": 33
        }
      ]
    },
    {
      "cell_type": "code",
      "source": [
        "#Fazendo previsão com um animal com características diferentes\n",
        "animal_misterioso = [1,1,1]\n",
        "model.predict([animal_misterioso])\n",
        "\n",
        "#resultado = 0 => é um cachorro"
      ],
      "metadata": {
        "id": "QBZhEkThLSYe",
        "outputId": "c3aeca94-cd7b-472b-dfcb-818979a91ef8",
        "colab": {
          "base_uri": "https://localhost:8080/"
        }
      },
      "execution_count": null,
      "outputs": [
        {
          "output_type": "execute_result",
          "data": {
            "text/plain": [
              "array([0])"
            ]
          },
          "metadata": {},
          "execution_count": 34
        }
      ]
    },
    {
      "cell_type": "code",
      "source": [
        "misterio1 = [1,1,1]\n",
        "misterio2 = [1,1,0]\n",
        "misterio3 = [0,1,1]\n",
        "\n",
        "treino_x = [misterio1,misterio2,misterio3]\n",
        "teste_y = [0,1,1]\n",
        "\n",
        "previsoes = model.predict(treino_x)\n",
        "\n",
        "#resultado = 0 => é um cachorro, resultado = 1 => é um porco\n",
        "\n",
        "#taxa de acerto do algoritmo \n",
        "\n",
        "#teste classe => suponho que já sabia o resultado \n",
        "\n"
      ],
      "metadata": {
        "id": "5xbV_8N2O78L"
      },
      "execution_count": null,
      "outputs": []
    },
    {
      "cell_type": "code",
      "source": [
        "corretos = (previsoes == teste_y).sum()\n",
        "total = len(treino_x)\n",
        "\n",
        "taxa_de_acerto = corretos/total\n",
        "\n",
        "print(\"Taxa de acerto %.2f : \" % (taxa_de_acerto*100))"
      ],
      "metadata": {
        "id": "d5HLzaALPXtg",
        "outputId": "c40d3515-8b8a-470e-836d-176b0c70b85e",
        "colab": {
          "base_uri": "https://localhost:8080/"
        }
      },
      "execution_count": null,
      "outputs": [
        {
          "output_type": "stream",
          "name": "stdout",
          "text": [
            "Taxa de acerto 66.67 : \n"
          ]
        }
      ]
    },
    {
      "cell_type": "code",
      "source": [
        "#usando biblioteca sklear para saber a taxa de acerto\n",
        "\n",
        "from sklearn.metrics import accuracy_score\n",
        "\n",
        "taxa_de_acerto = accuracy_score(teste_y, previsoes)\n",
        "print(\"Taxa de acerto %.2f: \" % (taxa_de_acerto*100))\n",
        "\n"
      ],
      "metadata": {
        "id": "lPuI2uRsRZs_",
        "outputId": "2e66af04-632c-463e-8f9d-43e87f8bea36",
        "colab": {
          "base_uri": "https://localhost:8080/"
        }
      },
      "execution_count": null,
      "outputs": [
        {
          "output_type": "stream",
          "name": "stdout",
          "text": [
            "Taxa de acerto 66.67: \n"
          ]
        }
      ]
    },
    {
      "cell_type": "markdown",
      "metadata": {
        "id": "P-H6Lw1vyNNd"
      },
      "source": [
        "<div class=\"markdown-google-sans\">\n",
        "\n",
        "<a name=\"machine-learning-examples\"></a>\n",
        "\n",
        "### Exemplos em destaque\n",
        "\n",
        "</div>\n",
        "\n",
        "- <a href=\"https://colab.research.google.com/github/NVIDIA/NeMo/blob/stable/tutorials/VoiceSwapSample.ipynb\">NeMo Voice Swap</a>: use o kit de ferramentas para IA conversacional do Nvidia NeMo para trocar uma voz em um fragmento de áudio por uma gerada por computador.\n",
        "\n",
        "- <a href=\"https://tensorflow.org/hub/tutorials/tf2_image_retraining\">Treinar novamente um classificador de imagens</a>: crie um modelo do Keras com base em um classificador de imagens pré-treinado para distinguir flores.\n",
        "- <a href=\"https://tensorflow.org/hub/tutorials/tf2_text_classification\">Classificação de texto</a>: classifique avaliações de filmes do IMDB como <em>positivas</em> ou <em>negativas</em>.\n",
        "- <a href=\"https://tensorflow.org/hub/tutorials/tf2_arbitrary_image_stylization\">Transferência de estilo</a>: use o aprendizado profundo para transferir o estilo entre imagens.\n",
        "- <a href=\"https://tensorflow.org/hub/tutorials/retrieval_with_tf_hub_universal_encoder_qa\">Perguntas e respostas sobre o codificador de frases universais multilíngue</a>: use um modelo de machine learning para responder a perguntas do conjunto de dados SQuAD.\n",
        "- <a href=\"https://tensorflow.org/hub/tutorials/tweening_conv3d\">Interpolação de vídeo</a>: preveja o que aconteceu em um vídeo entre o primeiro e o último frames.\n"
      ]
    }
  ],
  "metadata": {
    "colab": {
      "provenance": []
    },
    "kernelspec": {
      "display_name": "Python 3",
      "name": "python3"
    }
  },
  "nbformat": 4,
  "nbformat_minor": 0
}